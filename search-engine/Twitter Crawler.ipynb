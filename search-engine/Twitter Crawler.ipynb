{
 "cells": [
  {
   "cell_type": "markdown",
   "metadata": {},
   "source": [
    "# FINAL PROJECT  - TWITTER CRAWLER\n"
   ]
  },
  {
   "cell_type": "code",
   "execution_count": 1,
   "metadata": {},
   "outputs": [],
   "source": [
    "import json\n",
    "import pandas as pd\n",
    "import numpy as np\n",
    "import matplotlib.pyplot as plt\n",
    "import csv\n",
    "from collections import Counter\n",
    "from config import *"
   ]
  },
  {
   "cell_type": "code",
   "execution_count": 2,
   "metadata": {},
   "outputs": [],
   "source": [
    "#Import the necessary methods from tweepy library\n",
    "from tweepy.streaming import StreamListener\n",
    "from tweepy import OAuthHandler\n",
    "from tweepy import Stream\n",
    "from tweepy import API\n",
    "from tweepy import Cursor\n",
    "import json\n",
    "import datetime"
   ]
  },
  {
   "cell_type": "markdown",
   "metadata": {},
   "source": [
    "## 1. COLLECT DATA"
   ]
  },
  {
   "cell_type": "code",
   "execution_count": 3,
   "metadata": {},
   "outputs": [],
   "source": [
    "## access token informations \n",
    "access_token1 = \"989425972633063424-CikJNGMKQt7ABgiMdHD1DczF6Co57FF\"\n",
    "access_token_secret1 = \"xcIEveiK9PYXlomq3hNOTfIcpbM8zWbLkwyp1ubYsEamp\"\n",
    "\n",
    "consumer_key1 = \"5QDGnriy2sm3DGyd1vRjTG6um\"\n",
    "consumer_secret1 = \"qXC4modanhi6LSNeoRxQCVm4I5TuisNrnTC7F0X84tHJcdbzJ2\""
   ]
  },
  {
   "cell_type": "code",
   "execution_count": 4,
   "metadata": {},
   "outputs": [],
   "source": [
    "auth = OAuthHandler(consumer_key1, consumer_secret1)\n",
    "auth.set_access_token(access_token1, access_token_secret1)\n",
    "api = API(auth_handler = auth, wait_on_rate_limit = True, wait_on_rate_limit_notify = True)"
   ]
  },
  {
   "cell_type": "code",
   "execution_count": 5,
   "metadata": {},
   "outputs": [],
   "source": [
    "class MyStreamListener(StreamListener):\n",
    "    \"\"\"\n",
    "    Twitter listener, collects streaming tweets and output to a file\n",
    "    \"\"\"\n",
    "    def __init__(self, api, OUTPUT_FILENAME, stop_condition=10):\n",
    "        \"\"\"\n",
    "        initialize the stream, with num. of tweets and saving the outputfile\n",
    "        \"\"\"\n",
    "        \n",
    "        # this line is needed to import the characteristics of the streaming API\n",
    "        super(MyStreamListener, self).__init__()\n",
    "        \n",
    "        # to-count the number of tweets collected        \n",
    "        self.num_tweets = 0\n",
    "        \n",
    "        # save filename\n",
    "        self.filename = OUTPUT_FILENAME\n",
    "        \n",
    "        # stop-condition\n",
    "        self.stop_condition = stop_condition\n",
    "        \n",
    "\n",
    "    def on_status(self, status):\n",
    "        \n",
    "        \"\"\"\n",
    "        this function runs each time a new bunch of tweets is retrived from the streaming\n",
    "        \"\"\"\n",
    "        \n",
    "        with open(self.filename, \"a+\") as f:\n",
    "            tweet = status._json\n",
    "            \n",
    "            f.write(json.dumps(tweet) + '\\n')\n",
    "            #self.output.append(tweet)\n",
    "            self.num_tweets += 1\n",
    "        \n",
    "            # Stop condition        \n",
    "            if self.num_tweets <= self.stop_condition:\n",
    "                return True\n",
    "            else:\n",
    "                return False\n",
    "        \n",
    "\n",
    "    def on_error(self, status):\n",
    "        \"\"\"\n",
    "        function useful to handle errors. It's possible to personalize it \n",
    "        depending on the way we want to handle errors\n",
    "        \"\"\"\n",
    "        \n",
    "        print(status)\n",
    "        #returning False in on_error disconnects the stream\n",
    "        return False"
   ]
  },
  {
   "cell_type": "code",
   "execution_count": 10,
   "metadata": {},
   "outputs": [
    {
     "name": "stdout",
     "output_type": "stream",
     "text": [
      "Wall time: 26min 5s\n"
     ]
    }
   ],
   "source": [
    "%%time\n",
    "\n",
    "OUTPUT_FILENAME = \"data/tweets.json\"\n",
    "stop_condition = 30000\n",
    "\n",
    "l = MyStreamListener(api, OUTPUT_FILENAME, stop_condition)\n",
    "# here we recall the Stream Class from Tweepy to input the authentication info and our personalized listener \n",
    "stream = Stream(auth = api.auth, listener = l)\n",
    "\n",
    "\n",
    "# keywords we may want decide to track \n",
    "# covid, coronavirus, pandemic, virus, #covid, #covid19, #coronavirus\n",
    "TRACKING_KEYWORDS = [\"coronavirus\", \"covid\", \"pandemic\", \"virus\",  \"#covid\", \"#coronavirus\", \"#covid19\"]\n",
    "stream.filter(\n",
    "    track = TRACKING_KEYWORDS, \n",
    "    is_async = False, \n",
    "    languages = [\"en\"]\n",
    ")"
   ]
  },
  {
   "cell_type": "markdown",
   "metadata": {},
   "source": [
    "## 2. LOAD DATA "
   ]
  },
  {
   "cell_type": "code",
   "execution_count": 5,
   "metadata": {},
   "outputs": [
    {
     "name": "stdout",
     "output_type": "stream",
     "text": [
      "Wall time: 22min 20s\n"
     ]
    }
   ],
   "source": [
    "%%time\n",
    "\n",
    "with open(\"data/tweets.json\", \"rb\") as f:\n",
    "    data = f.readlines()\n",
    "    data = [json.loads(str_) for str_ in data]"
   ]
  },
  {
   "cell_type": "code",
   "execution_count": 6,
   "metadata": {},
   "outputs": [
    {
     "name": "stdout",
     "output_type": "stream",
     "text": [
      "Wall time: 10min 54s\n"
     ]
    }
   ],
   "source": [
    "%%time\n",
    "df_tweets = pd.DataFrame.from_records(data)"
   ]
  },
  {
   "cell_type": "code",
   "execution_count": 7,
   "metadata": {},
   "outputs": [
    {
     "name": "stdout",
     "output_type": "stream",
     "text": [
      "(500526, 37)\n"
     ]
    }
   ],
   "source": [
    "print(df_tweets.shape)"
   ]
  },
  {
   "cell_type": "markdown",
   "metadata": {},
   "source": [
    "## 3. STORE DATA TO CSV"
   ]
  },
  {
   "cell_type": "code",
   "execution_count": 8,
   "metadata": {},
   "outputs": [],
   "source": [
    "df_tweets.to_csv(\"data/tweets.csv\", index = False)"
   ]
  },
  {
   "cell_type": "code",
   "execution_count": 10,
   "metadata": {},
   "outputs": [
    {
     "name": "stderr",
     "output_type": "stream",
     "text": [
      "<c:\\program files\\python38\\lib\\site-packages\\decorator.py:decorator-gen-62>:2: DtypeWarning: Columns (13,14,37) have mixed types.Specify dtype option on import or set low_memory=False.\n"
     ]
    },
    {
     "name": "stdout",
     "output_type": "stream",
     "text": [
      "Wall time: 5min 34s\n"
     ]
    }
   ],
   "source": [
    "%%time\n",
    "data = pd.read_csv(\"data/tweets.csv\")"
   ]
  },
  {
   "cell_type": "code",
   "execution_count": 11,
   "metadata": {},
   "outputs": [
    {
     "data": {
      "text/html": [
       "<div>\n",
       "<style scoped>\n",
       "    .dataframe tbody tr th:only-of-type {\n",
       "        vertical-align: middle;\n",
       "    }\n",
       "\n",
       "    .dataframe tbody tr th {\n",
       "        vertical-align: top;\n",
       "    }\n",
       "\n",
       "    .dataframe thead th {\n",
       "        text-align: right;\n",
       "    }\n",
       "</style>\n",
       "<table border=\"1\" class=\"dataframe\">\n",
       "  <thead>\n",
       "    <tr style=\"text-align: right;\">\n",
       "      <th></th>\n",
       "      <th>Unnamed: 0</th>\n",
       "      <th>created_at</th>\n",
       "      <th>id</th>\n",
       "      <th>id_str</th>\n",
       "      <th>text</th>\n",
       "      <th>source</th>\n",
       "      <th>truncated</th>\n",
       "      <th>in_reply_to_status_id</th>\n",
       "      <th>in_reply_to_status_id_str</th>\n",
       "      <th>in_reply_to_user_id</th>\n",
       "      <th>...</th>\n",
       "      <th>favorited</th>\n",
       "      <th>retweeted</th>\n",
       "      <th>filter_level</th>\n",
       "      <th>lang</th>\n",
       "      <th>timestamp_ms</th>\n",
       "      <th>display_text_range</th>\n",
       "      <th>extended_tweet</th>\n",
       "      <th>extended_entities</th>\n",
       "      <th>possibly_sensitive</th>\n",
       "      <th>withheld_in_countries</th>\n",
       "    </tr>\n",
       "  </thead>\n",
       "  <tbody>\n",
       "    <tr>\n",
       "      <th>0</th>\n",
       "      <td>0</td>\n",
       "      <td>Sun Nov 22 10:54:27 +0000 2020</td>\n",
       "      <td>1330464655572164615</td>\n",
       "      <td>1330464655572164615</td>\n",
       "      <td>RT @SDPNorthEast: Travelling between Scotland ...</td>\n",
       "      <td>&lt;a href=\"http://twitter.com/download/android\" ...</td>\n",
       "      <td>False</td>\n",
       "      <td>NaN</td>\n",
       "      <td>NaN</td>\n",
       "      <td>NaN</td>\n",
       "      <td>...</td>\n",
       "      <td>False</td>\n",
       "      <td>False</td>\n",
       "      <td>low</td>\n",
       "      <td>en</td>\n",
       "      <td>1606042467383</td>\n",
       "      <td>NaN</td>\n",
       "      <td>NaN</td>\n",
       "      <td>NaN</td>\n",
       "      <td>NaN</td>\n",
       "      <td>NaN</td>\n",
       "    </tr>\n",
       "    <tr>\n",
       "      <th>1</th>\n",
       "      <td>1</td>\n",
       "      <td>Sun Nov 22 10:54:27 +0000 2020</td>\n",
       "      <td>1330464656490721280</td>\n",
       "      <td>1330464656490721280</td>\n",
       "      <td>RT @SenKamalaHarris: I’m thankful for the farm...</td>\n",
       "      <td>&lt;a href=\"http://twitter.com/download/android\" ...</td>\n",
       "      <td>False</td>\n",
       "      <td>NaN</td>\n",
       "      <td>NaN</td>\n",
       "      <td>NaN</td>\n",
       "      <td>...</td>\n",
       "      <td>False</td>\n",
       "      <td>False</td>\n",
       "      <td>low</td>\n",
       "      <td>en</td>\n",
       "      <td>1606042467602</td>\n",
       "      <td>NaN</td>\n",
       "      <td>NaN</td>\n",
       "      <td>NaN</td>\n",
       "      <td>NaN</td>\n",
       "      <td>NaN</td>\n",
       "    </tr>\n",
       "    <tr>\n",
       "      <th>2</th>\n",
       "      <td>2</td>\n",
       "      <td>Sun Nov 22 10:54:27 +0000 2020</td>\n",
       "      <td>1330464656985628673</td>\n",
       "      <td>1330464656985628673</td>\n",
       "      <td>RT @caljspencer: A vaccine has been found for ...</td>\n",
       "      <td>&lt;a href=\"http://twitter.com/download/android\" ...</td>\n",
       "      <td>False</td>\n",
       "      <td>NaN</td>\n",
       "      <td>NaN</td>\n",
       "      <td>NaN</td>\n",
       "      <td>...</td>\n",
       "      <td>False</td>\n",
       "      <td>False</td>\n",
       "      <td>low</td>\n",
       "      <td>en</td>\n",
       "      <td>1606042467720</td>\n",
       "      <td>NaN</td>\n",
       "      <td>NaN</td>\n",
       "      <td>NaN</td>\n",
       "      <td>NaN</td>\n",
       "      <td>NaN</td>\n",
       "    </tr>\n",
       "    <tr>\n",
       "      <th>3</th>\n",
       "      <td>3</td>\n",
       "      <td>Sun Nov 22 10:54:27 +0000 2020</td>\n",
       "      <td>1330464657086275585</td>\n",
       "      <td>1330464657086275585</td>\n",
       "      <td>Respect @NIkosdN</td>\n",
       "      <td>&lt;a href=\"https://mobile.twitter.com\" rel=\"nofo...</td>\n",
       "      <td>False</td>\n",
       "      <td>NaN</td>\n",
       "      <td>NaN</td>\n",
       "      <td>NaN</td>\n",
       "      <td>...</td>\n",
       "      <td>False</td>\n",
       "      <td>False</td>\n",
       "      <td>low</td>\n",
       "      <td>en</td>\n",
       "      <td>1606042467744</td>\n",
       "      <td>NaN</td>\n",
       "      <td>NaN</td>\n",
       "      <td>NaN</td>\n",
       "      <td>NaN</td>\n",
       "      <td>NaN</td>\n",
       "    </tr>\n",
       "    <tr>\n",
       "      <th>4</th>\n",
       "      <td>4</td>\n",
       "      <td>Sun Nov 22 10:54:27 +0000 2020</td>\n",
       "      <td>1330464657069531137</td>\n",
       "      <td>1330464657069531137</td>\n",
       "      <td>@TheJasonPugh Putting out the message that 🇨🇦 ...</td>\n",
       "      <td>&lt;a href=\"http://twitter.com/download/android\" ...</td>\n",
       "      <td>True</td>\n",
       "      <td>1.330229e+18</td>\n",
       "      <td>1.330229e+18</td>\n",
       "      <td>457136882.0</td>\n",
       "      <td>...</td>\n",
       "      <td>False</td>\n",
       "      <td>False</td>\n",
       "      <td>low</td>\n",
       "      <td>en</td>\n",
       "      <td>1606042467740</td>\n",
       "      <td>[14, 140]</td>\n",
       "      <td>{'full_text': \"@TheJasonPugh Putting out the m...</td>\n",
       "      <td>NaN</td>\n",
       "      <td>NaN</td>\n",
       "      <td>NaN</td>\n",
       "    </tr>\n",
       "  </tbody>\n",
       "</table>\n",
       "<p>5 rows × 38 columns</p>\n",
       "</div>"
      ],
      "text/plain": [
       "   Unnamed: 0                      created_at                   id  \\\n",
       "0           0  Sun Nov 22 10:54:27 +0000 2020  1330464655572164615   \n",
       "1           1  Sun Nov 22 10:54:27 +0000 2020  1330464656490721280   \n",
       "2           2  Sun Nov 22 10:54:27 +0000 2020  1330464656985628673   \n",
       "3           3  Sun Nov 22 10:54:27 +0000 2020  1330464657086275585   \n",
       "4           4  Sun Nov 22 10:54:27 +0000 2020  1330464657069531137   \n",
       "\n",
       "                id_str                                               text  \\\n",
       "0  1330464655572164615  RT @SDPNorthEast: Travelling between Scotland ...   \n",
       "1  1330464656490721280  RT @SenKamalaHarris: I’m thankful for the farm...   \n",
       "2  1330464656985628673  RT @caljspencer: A vaccine has been found for ...   \n",
       "3  1330464657086275585                                   Respect @NIkosdN   \n",
       "4  1330464657069531137  @TheJasonPugh Putting out the message that 🇨🇦 ...   \n",
       "\n",
       "                                              source  truncated  \\\n",
       "0  <a href=\"http://twitter.com/download/android\" ...      False   \n",
       "1  <a href=\"http://twitter.com/download/android\" ...      False   \n",
       "2  <a href=\"http://twitter.com/download/android\" ...      False   \n",
       "3  <a href=\"https://mobile.twitter.com\" rel=\"nofo...      False   \n",
       "4  <a href=\"http://twitter.com/download/android\" ...       True   \n",
       "\n",
       "   in_reply_to_status_id  in_reply_to_status_id_str  in_reply_to_user_id  ...  \\\n",
       "0                    NaN                        NaN                  NaN  ...   \n",
       "1                    NaN                        NaN                  NaN  ...   \n",
       "2                    NaN                        NaN                  NaN  ...   \n",
       "3                    NaN                        NaN                  NaN  ...   \n",
       "4           1.330229e+18               1.330229e+18          457136882.0  ...   \n",
       "\n",
       "   favorited retweeted filter_level lang   timestamp_ms display_text_range  \\\n",
       "0      False     False          low   en  1606042467383                NaN   \n",
       "1      False     False          low   en  1606042467602                NaN   \n",
       "2      False     False          low   en  1606042467720                NaN   \n",
       "3      False     False          low   en  1606042467744                NaN   \n",
       "4      False     False          low   en  1606042467740          [14, 140]   \n",
       "\n",
       "                                      extended_tweet extended_entities  \\\n",
       "0                                                NaN               NaN   \n",
       "1                                                NaN               NaN   \n",
       "2                                                NaN               NaN   \n",
       "3                                                NaN               NaN   \n",
       "4  {'full_text': \"@TheJasonPugh Putting out the m...               NaN   \n",
       "\n",
       "   possibly_sensitive  withheld_in_countries  \n",
       "0                 NaN                    NaN  \n",
       "1                 NaN                    NaN  \n",
       "2                 NaN                    NaN  \n",
       "3                 NaN                    NaN  \n",
       "4                 NaN                    NaN  \n",
       "\n",
       "[5 rows x 38 columns]"
      ]
     },
     "execution_count": 11,
     "metadata": {},
     "output_type": "execute_result"
    }
   ],
   "source": [
    "data.head()"
   ]
  },
  {
   "cell_type": "code",
   "execution_count": 12,
   "metadata": {},
   "outputs": [
    {
     "name": "stdout",
     "output_type": "stream",
     "text": [
      "<class 'pandas.core.frame.DataFrame'>\n",
      "RangeIndex: 500526 entries, 0 to 500525\n",
      "Data columns (total 38 columns):\n",
      " #   Column                     Non-Null Count   Dtype  \n",
      "---  ------                     --------------   -----  \n",
      " 0   Unnamed: 0                 500526 non-null  int64  \n",
      " 1   created_at                 500526 non-null  object \n",
      " 2   id                         500526 non-null  int64  \n",
      " 3   id_str                     500526 non-null  int64  \n",
      " 4   text                       500526 non-null  object \n",
      " 5   source                     499071 non-null  object \n",
      " 6   truncated                  500526 non-null  bool   \n",
      " 7   in_reply_to_status_id      54034 non-null   float64\n",
      " 8   in_reply_to_status_id_str  54034 non-null   float64\n",
      " 9   in_reply_to_user_id        58227 non-null   float64\n",
      " 10  in_reply_to_user_id_str    58227 non-null   float64\n",
      " 11  in_reply_to_screen_name    58223 non-null   object \n",
      " 12  user                       500526 non-null  object \n",
      " 13  geo                        73 non-null      object \n",
      " 14  coordinates                73 non-null      object \n",
      " 15  place                      4131 non-null    object \n",
      " 16  contributors               0 non-null       float64\n",
      " 17  retweeted_status           326103 non-null  object \n",
      " 18  quoted_status_id           119047 non-null  float64\n",
      " 19  quoted_status_id_str       119047 non-null  float64\n",
      " 20  quoted_status              119003 non-null  object \n",
      " 21  quoted_status_permalink    119003 non-null  object \n",
      " 22  is_quote_status            500526 non-null  bool   \n",
      " 23  quote_count                500526 non-null  int64  \n",
      " 24  reply_count                500526 non-null  int64  \n",
      " 25  retweet_count              500526 non-null  int64  \n",
      " 26  favorite_count             500526 non-null  int64  \n",
      " 27  entities                   500526 non-null  object \n",
      " 28  favorited                  500526 non-null  bool   \n",
      " 29  retweeted                  500526 non-null  bool   \n",
      " 30  filter_level               500526 non-null  object \n",
      " 31  lang                       500526 non-null  object \n",
      " 32  timestamp_ms               500526 non-null  int64  \n",
      " 33  display_text_range         67565 non-null   object \n",
      " 34  extended_tweet             92498 non-null   object \n",
      " 35  extended_entities          17576 non-null   object \n",
      " 36  possibly_sensitive         100972 non-null  object \n",
      " 37  withheld_in_countries      165 non-null     object \n",
      "dtypes: bool(4), float64(7), int64(8), object(19)\n",
      "memory usage: 131.7+ MB\n"
     ]
    }
   ],
   "source": [
    "data.info()"
   ]
  },
  {
   "cell_type": "code",
   "execution_count": null,
   "metadata": {},
   "outputs": [],
   "source": []
  }
 ],
 "metadata": {
  "kernelspec": {
   "display_name": "Python 3",
   "language": "python",
   "name": "python3"
  },
  "language_info": {
   "codemirror_mode": {
    "name": "ipython",
    "version": 3
   },
   "file_extension": ".py",
   "mimetype": "text/x-python",
   "name": "python",
   "nbconvert_exporter": "python",
   "pygments_lexer": "ipython3",
   "version": "3.8.1"
  }
 },
 "nbformat": 4,
 "nbformat_minor": 2
}
